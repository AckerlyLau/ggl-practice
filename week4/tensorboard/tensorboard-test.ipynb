{
 "cells": [
  {
   "cell_type": "code",
   "execution_count": 5,
   "metadata": {},
   "outputs": [
    {
     "name": "stdout",
     "output_type": "stream",
     "text": [
      "<class 'numpy.ndarray'>\n",
      "(369, 500, 3)\n"
     ]
    }
   ],
   "source": [
    "from torch.utils.tensorboard import SummaryWriter\n",
    "import numpy as np\n",
    "from PIL import Image\n",
    "# tensorboard --logdir=logs --port=6007 启动tensorboard\n",
    "writer = SummaryWriter(\"logs\")\n",
    "image_path1 = \"data/train/ants_image/6240329_72c01e663e.jpg\"\n",
    "img_PIL1 = Image.open(image_path1)\n",
    "img_array1 = np.array(img_PIL1)\n",
    "print(type(img_array))\n",
    "print(img_array.shape)\n",
    "\n",
    "writer.add_image(\"train\", img_array, 1, dataformats='HWC')\n",
    "image_path2 = \"data/train/ants_image/0013035.jpg\"\n",
    "img_PIL2 = Image.open(image_path2)\n",
    "img_array2 = np.array(img_PIL2)\n",
    "writer.add_image(\"train\", img_array, 2, dataformats='HWC')\n",
    "\n",
    "for i in range(100):\n",
    "    writer.add_scalar(\"y=x\", i , i)\n",
    "\n",
    "writer.close()"
   ]
  }
 ],
 "metadata": {
  "kernelspec": {
   "display_name": "ggl-practice",
   "language": "python",
   "name": "python3"
  },
  "language_info": {
   "codemirror_mode": {
    "name": "ipython",
    "version": 3
   },
   "file_extension": ".py",
   "mimetype": "text/x-python",
   "name": "python",
   "nbconvert_exporter": "python",
   "pygments_lexer": "ipython3",
   "version": "3.9.19"
  }
 },
 "nbformat": 4,
 "nbformat_minor": 2
}
