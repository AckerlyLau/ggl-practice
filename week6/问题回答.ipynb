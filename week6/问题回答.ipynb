{
 "cells": [
  {
   "cell_type": "markdown",
   "metadata": {},
   "source": [
    "GraphConv中提到的公式和文档中的消息传递范式是如何对应的（指出消息传递范式中每一个符号对应公式的哪一个部分）。\n",
    "\n",
    "**消息传递范式**：\n",
    "\n"
   ]
  }
 ],
 "metadata": {
  "language_info": {
   "name": "python"
  }
 },
 "nbformat": 4,
 "nbformat_minor": 2
}
