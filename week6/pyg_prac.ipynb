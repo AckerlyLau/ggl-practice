{
 "cells": [
  {
   "cell_type": "code",
   "execution_count": 10,
   "metadata": {},
   "outputs": [],
   "source": [
    "import torch\n",
    "import numpy as np\n",
    "import torch.nn as nn\n",
    "import dgl\n",
    "import dgl.function as fn\n",
    "from torch_geometric.nn.conv import MessagePassing\n",
    "from torch_geometric.utils import add_self_loops,degree\n",
    "from torch_geometric.utils import softmax\n",
    "\n",
    "class PyG_GATConv(MessagePassing):\n",
    "  def __init__(self, in_channel, out_channel):\n",
    "    super(PyG_GATConv, self).__init__(aggr='mean')\n",
    "    self.in_channel = in_channel\n",
    "    self.out_channel = out_channel\n",
    "    self.linear = nn.Linear(in_channel, out_channel)\n",
    "    self.attn_linear = nn.Linear(2*out_channel, 1)\n",
    "    self.leaky_relu = nn.LeakyReLU()\n",
    "    self.softmax = nn.Softmax(dim=1)\n",
    "\n",
    "  def forward(self,x, edge_index):\n",
    "    wh = self.linear(x)\n",
    "    edge_attr = torch.cat([wh[edge_index[0]], wh[edge_index[1]]], dim=1)\n",
    "    eij = self.leaky_relu(self.attn_linear(edge_attr)).squeeze()\n",
    "    # alpha = self.softmax(eij)\n",
    "    alpha = softmax(eij, edge_index[1])\n",
    "    return self.propagate(edge_index, x=wh, alpha=alpha)\n",
    "  def message(self,x_j, alpha):\n",
    "    return alpha.view(-1,1) * x_j\n",
    "\n",
    "class PyG_SAGEConv(MessagePassing):\n",
    "  def __init__(self, in_channel, out_channel):\n",
    "    super(PyG_SAGEConv, self).__init__(aggr='mean')\n",
    "    self.in_channel = in_channel\n",
    "    self.out_channel = out_channel\n",
    "    self.linear = nn.Linear(in_channel, out_channel)\n",
    "    self.relu = nn.ReLU()\n",
    "  def forward(self,x, edge_index):\n",
    "    print(\"x,edge_index\")\n",
    "    print(x,edge_index)\n",
    "    return self.propagate(edge_index, x=x)\n",
    "\n",
    "    # print(\"row \" + str(row),\"col \"+str(col))\n",
    "  def message(self,x_i,x_j):\n",
    "    return torch.cat([x_i,x_j])\n",
    "  \n",
    "  def update(self, aggr_out):\n",
    "    return self.relu(self.linear(aggr_out))\n",
    "  \n",
    "class PyG_ToyConv(MessagePassing):\n",
    "  def __init__(self,in_channel,out_channel):\n",
    "    super(PyG_ToyConv,self).__init__(aggr=\"mean\")\n",
    "    self.in_channel = in_channel\n",
    "    self.out_channel = out_channel\n",
    "    self.linear = nn.Linear(in_channel,out_channel)\n",
    "    self.activation = nn.ReLU()\n",
    "  \n",
    "  def forward(self,x,edge_index):\n",
    "    x = self.linear(x)\n",
    "    return self.propagate(edge_index,x=x)\n",
    "  def message(self,x_j):\n",
    "    return x_j\n",
    "\n",
    "  def update(self,aggr_out,x_j):\n",
    "    hcat = torch.cat([x_j,aggr_out])\n",
    "    hi = self.activation(hcat)\n",
    "    return hi\n",
    "\n"
   ]
  },
  {
   "cell_type": "code",
   "execution_count": 11,
   "metadata": {},
   "outputs": [
    {
     "name": "stdout",
     "output_type": "stream",
     "text": [
      "tensor([[0.0280, 0.0000, 0.5096, 0.4949],\n",
      "        [0.0280, 0.0000, 0.5096, 0.4949],\n",
      "        [0.0280, 0.0000, 0.5096, 0.4949],\n",
      "        [0.0280, 0.0000, 0.5096, 0.4949],\n",
      "        [0.0280, 0.0000, 0.5096, 0.4949],\n",
      "        [0.0280, 0.0000, 0.5096, 0.4949],\n",
      "        [0.0280, 0.0000, 0.5096, 0.4949],\n",
      "        [0.0000, 0.0000, 0.0000, 0.0000],\n",
      "        [0.0280, 0.0000, 0.5096, 0.4949],\n",
      "        [0.0280, 0.0000, 0.5096, 0.4949],\n",
      "        [0.0280, 0.0000, 0.5096, 0.4949]], grad_fn=<ReluBackward0>)\n"
     ]
    }
   ],
   "source": [
    "edge_index = torch.tensor([[0,1,1,2,2,4],[2,0,2,3,4,3]])\n",
    "x = torch.ones((5, 8))\n",
    "# conv = PyG_GATConv(8, 4)\n",
    "# output = conv(x, edge_index)\n",
    "# print(output)\n",
    "# conv = PyG_SAGEConv(8, 4)\n",
    "# output = conv(x, edge_index)\n",
    "# print(output)\n",
    "\n",
    "conv = PyG_ToyConv(8,4)\n",
    "output = conv(x,edge_index)\n",
    "print(output)"
   ]
  }
 ],
 "metadata": {
  "kernelspec": {
   "display_name": "ggl-practice",
   "language": "python",
   "name": "python3"
  },
  "language_info": {
   "codemirror_mode": {
    "name": "ipython",
    "version": 3
   },
   "file_extension": ".py",
   "mimetype": "text/x-python",
   "name": "python",
   "nbconvert_exporter": "python",
   "pygments_lexer": "ipython3",
   "version": "3.9.19"
  }
 },
 "nbformat": 4,
 "nbformat_minor": 2
}
