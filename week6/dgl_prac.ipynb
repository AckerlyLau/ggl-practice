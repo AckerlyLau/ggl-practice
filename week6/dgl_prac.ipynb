{
 "cells": [
  {
   "cell_type": "code",
   "execution_count": 18,
   "metadata": {},
   "outputs": [
    {
     "name": "stdout",
     "output_type": "stream",
     "text": [
      "{'x': tensor([[1., 1., 1.],\n",
      "        [1., 1., 1.],\n",
      "        [1., 1., 1.],\n",
      "        [1., 1., 1.],\n",
      "        [1., 1., 1.],\n",
      "        [1., 1., 1.]])}\n"
     ]
    },
    {
     "ename": "TypeError",
     "evalue": "new(): invalid data type 'str'",
     "output_type": "error",
     "traceback": [
      "\u001b[0;31m---------------------------------------------------------------------------\u001b[0m",
      "\u001b[0;31mTypeError\u001b[0m                                 Traceback (most recent call last)",
      "Cell \u001b[0;32mIn[18], line 15\u001b[0m\n\u001b[1;32m     12\u001b[0m \u001b[38;5;66;03m# print(g.edata['w'])\u001b[39;00m\n\u001b[1;32m     13\u001b[0m \u001b[38;5;66;03m# g.ndata['x'] = torch.ones(g.num_nodes(),dtype=torch.int32)\u001b[39;00m\n\u001b[1;32m     14\u001b[0m \u001b[38;5;28mprint\u001b[39m(g\u001b[38;5;241m.\u001b[39mndata)\n\u001b[0;32m---> 15\u001b[0m \u001b[38;5;28mprint\u001b[39m(\u001b[43mg\u001b[49m\u001b[38;5;241;43m.\u001b[39;49m\u001b[43medges\u001b[49m\u001b[43m(\u001b[49m\u001b[43m)\u001b[49m\u001b[43m[\u001b[49m\u001b[38;5;241;43m0\u001b[39;49m\u001b[43m]\u001b[49m\u001b[43m[\u001b[49m\u001b[38;5;124;43m'\u001b[39;49m\u001b[38;5;124;43mx\u001b[39;49m\u001b[38;5;124;43m'\u001b[39;49m\u001b[43m]\u001b[49m)\n",
      "\u001b[0;31mTypeError\u001b[0m: new(): invalid data type 'str'"
     ]
    }
   ],
   "source": [
    "import torch \n",
    "import dgl\n",
    "\n",
    "g = dgl.graph(([0, 0, 1, 5], [1, 2, 2, 0]))\n",
    "# print(g)\n",
    "g.ndata['x'] = torch.ones(g.num_nodes(),3)\n",
    "# print(g.ndata['x'])\n",
    "g.edata['y'] = torch.randn(g.num_edges(),1)\n",
    "# print(g.edata['y'])\n",
    "weights = torch.tensor([0.1, 0.2, 0.3, 0.4])\n",
    "g.edata['w'] = weights\n",
    "# print(g.edata['w'])\n",
    "# g.ndata['x'] = torch.ones(g.num_nodes(),dtype=torch.int32)\n",
    "print(g.ndata)\n",
    "print(g.edges()[0]['x'])\n"
   ]
  },
  {
   "cell_type": "code",
   "execution_count": 1,
   "metadata": {},
   "outputs": [
    {
     "name": "stdout",
     "output_type": "stream",
     "text": [
      "10\n",
      "tensor([0, 1, 2])\n",
      "NodeSpace(data={})\n",
      "False\n"
     ]
    }
   ],
   "source": [
    "import dgl\n",
    "import torch as th\n",
    "\n",
    "# 创建一个具有3种节点类型和3种边类型的异构图\n",
    "graph_data = {\n",
    "   ('drug', 'interacts', 'drug'): (th.tensor([0, 1]), th.tensor([1, 2])),\n",
    "   ('drug', 'interacts', 'gene'): (th.tensor([0, 1]), th.tensor([2, 3])),\n",
    "   ('drug', 'treats', 'disease'): (th.tensor([1]), th.tensor([2]))\n",
    "}\n",
    "g = dgl.heterograph(graph_data)\n",
    "print(g.num_nodes())\n",
    "print(g.nodes('drug'))\n",
    "print(g.nodes['drug'])\n",
    "g.nodes['drug'].data['m'] = th.ones(3, 1)\n",
    "print(g.is_block)"
   ]
  },
  {
   "cell_type": "code",
   "execution_count": 39,
   "metadata": {},
   "outputs": [
    {
     "name": "stdout",
     "output_type": "stream",
     "text": [
      "tensor([[1., 1., 1., 1., 1.],\n",
      "        [1., 1., 1., 1., 1.],\n",
      "        [1., 1., 1., 1., 1.],\n",
      "        [1., 1., 1., 1., 1.]])\n",
      "tensor([[0.8726, 0.4696],\n",
      "        [0.8726, 0.4696],\n",
      "        [0.8726, 0.4696],\n",
      "        [0.8726, 0.4696]], grad_fn=<AddmmBackward0>)\n"
     ]
    }
   ],
   "source": [
    "import torch.nn as nn\n",
    "import torch\n",
    "from dgl.utils import expand_as_pair\n",
    "linear = nn.Linear(5, 2)\n",
    "q = torch.ones(4, 5)\n",
    "print(q)\n",
    "print(linear(q))"
   ]
  }
 ],
 "metadata": {
  "kernelspec": {
   "display_name": "ggl-practice",
   "language": "python",
   "name": "python3"
  },
  "language_info": {
   "codemirror_mode": {
    "name": "ipython",
    "version": 3
   },
   "file_extension": ".py",
   "mimetype": "text/x-python",
   "name": "python",
   "nbconvert_exporter": "python",
   "pygments_lexer": "ipython3",
   "version": "3.9.19"
  }
 },
 "nbformat": 4,
 "nbformat_minor": 2
}
