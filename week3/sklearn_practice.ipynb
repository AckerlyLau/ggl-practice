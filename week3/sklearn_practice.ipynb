{
 "cells": [
  {
   "cell_type": "code",
   "execution_count": 7,
   "metadata": {},
   "outputs": [],
   "source": [
    "import numpy as np\n",
    "def get_data(num):\n",
    "  for _ in range(num):\n",
    "    x = np.random.uniform(-10.0, 10.0)\n",
    "    noise = np.random.normal(0, 1)\n",
    "    y = x * 2 + 1 + noise\n",
    "    yield np.array([x]).astype(np.float32), np.array([y]).astype(np.float32)\n",
    "\n",
    "x = np.array([])\n",
    "y = np.array([])\n",
    "for x0, y0 in get_data(1000):\n",
    "  x = np.append(x, x0)\n",
    "  y = np.append(y, y0)"
   ]
  },
  {
   "cell_type": "code",
   "execution_count": 8,
   "metadata": {},
   "outputs": [],
   "source": [
    "learn_rate = 0.1\n",
    "epochs = 1000\n",
    "display_step = 100\n",
    "np.random.seed(0)\n",
    "w = np.random.rand()\n",
    "b = np.random.rand()"
   ]
  },
  {
   "cell_type": "code",
   "execution_count": 9,
   "metadata": {},
   "outputs": [
    {
     "name": "stdout",
     "output_type": "stream",
     "text": [
      "2.0040268052862498 0.9590469735898902\n"
     ]
    }
   ],
   "source": [
    "from sklearn import linear_model\n",
    "reg = linear_model.LinearRegression()\n",
    "reg.fit(x.reshape(-1, 1), y)\n",
    "w = reg.coef_[0]\n",
    "b = reg.intercept_\n",
    "print(w, b)\n",
    "for epoch in range(epochs):\n",
    "  # Your code here\n",
    "  pass\n",
    "  # End your code"
   ]
  }
 ],
 "metadata": {
  "kernelspec": {
   "display_name": "ggl-practice",
   "language": "python",
   "name": "python3"
  },
  "language_info": {
   "codemirror_mode": {
    "name": "ipython",
    "version": 3
   },
   "file_extension": ".py",
   "mimetype": "text/x-python",
   "name": "python",
   "nbconvert_exporter": "python",
   "pygments_lexer": "ipython3",
   "version": "3.9.19"
  }
 },
 "nbformat": 4,
 "nbformat_minor": 2
}
