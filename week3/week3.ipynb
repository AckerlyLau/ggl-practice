{
  "cells": [
    {
      "cell_type": "markdown",
      "metadata": {
        "id": "C_LqSe6BOIMO"
      },
      "source": [
        "In this work, you are required to implement an easy linear regression with machine learning methods based on numpy. It is better not to use the deep learning libraries such as PyTorch or Tensorflow .etc."
      ]
    },
    {
      "cell_type": "markdown",
      "metadata": {
        "id": "jOJEgBOHTwG5"
      },
      "source": [
        "The first is the data generation. We can generate data that follows a linear distribution with the following functions."
      ]
    },
    {
      "cell_type": "code",
      "execution_count": 16,
      "metadata": {
        "id": "Z5aJpqiDNvj8"
      },
      "outputs": [],
      "source": [
        "import numpy as np\n",
        "def get_data(num):\n",
        "  for _ in range(num):\n",
        "    x = np.random.uniform(-10.0, 10.0)\n",
        "    noise = np.random.normal(0, 1)\n",
        "    y = x * 2 + 1 + noise\n",
        "    yield np.array([x]).astype(np.float32), np.array([y]).astype(np.float32)\n",
        "\n",
        "x = np.array([])\n",
        "y = np.array([])\n",
        "for x0, y0 in get_data(1000):\n",
        "  x = np.append(x, x0)\n",
        "  y = np.append(y, y0)"
      ]
    },
    {
      "cell_type": "markdown",
      "metadata": {
        "id": "HwsYNcPpVrog"
      },
      "source": [
        "The following is setting the hyperparameters, and the initialization of the learnable parameters."
      ]
    },
    {
      "cell_type": "code",
      "execution_count": 17,
      "metadata": {
        "id": "tpmidqWHV7st"
      },
      "outputs": [],
      "source": [
        "learn_rate = 0.01\n",
        "epochs = 100\n",
        "display_step = 10\n",
        "np.random.seed(0)\n",
        "w = np.random.rand()\n",
        "b = np.random.rand()"
      ]
    },
    {
      "cell_type": "markdown",
      "metadata": {
        "id": "XoLQ2KCMWKz-"
      },
      "source": [
        "So, you only need to write the code to train the learnable parameters w and b. We recommend you use the mean square error function."
      ]
    },
    {
      "cell_type": "code",
      "execution_count": 18,
      "metadata": {
        "id": "bKv5Se1tWmVY"
      },
      "outputs": [
        {
          "name": "stdout",
          "output_type": "stream",
          "text": [
            "epoch: 0 w: 1.0488521602027379 b: 0.7241671446900937 partial_j_b: -0.8977778317674175 partial_j_w: -50.0038656275413 delta_w: 0.5000386562754131 delta_b: 0.008977778317674212\n",
            "epoch: 10 w: 1.9923635615767208 b: 0.7580050371661574 partial_j_b: -0.2117594107590849 partial_j_w: -0.7474656645433829 delta_w: 0.007474656645433786 delta_b: 0.0021175941075908256\n",
            "epoch: 20 w: 2.006264381205217 b: 0.7772894874785907 partial_j_b: -0.18261768197487904 partial_j_w: -0.00879125754845844 delta_w: 8.791257548468323e-05 delta_b: 0.001826176819748837\n",
            "epoch: 30 w: 2.0062435714952707 b: 0.794570617182632 partial_j_b: -0.16512218746810536 partial_j_w: 0.0020598580180676757 delta_w: -2.0598580180664072e-05 delta_b: 0.0016512218746810303\n",
            "epoch: 40 w: 2.006035716353519 b: 0.8102063873934044 partial_j_b: -0.14942303307175844 partial_j_w: 0.0020142879236180054 delta_w: -2.014287923612912e-05 delta_b: 0.0014942303307176052\n",
            "epoch: 50 w: 2.0058447850179597 b: 0.8243557251280282 partial_j_b: -0.13521829594111953 partial_j_w: 0.0018250562236316954 delta_w: -1.8250562236143963e-05 delta_b: 0.0013521829594111967\n",
            "epoch: 60 w: 2.005671961782147 b: 0.8371599738606706 partial_j_b: -0.1223639436762517 partial_j_w: 0.0016515934357256717 delta_w: -1.6515934357475004e-05 delta_b: 0.0012236394367625136\n",
            "epoch: 70 w: 2.005515567124776 b: 0.8487470032971239 partial_j_b: -0.11073157417576775 partial_j_w: 0.001494587356557516 delta_w: -1.4945873565430645e-05 delta_b: 0.0011073157417577084\n",
            "epoch: 80 w: 2.005374039912955 b: 0.8592325268184778 partial_j_b: -0.10020502079133885 partial_j_w: 0.0013525063568877646 delta_w: -1.3525063568664564e-05 delta_b: 0.0010020502079134408\n",
            "epoch: 90 w: 2.0052459668016986 b: 0.8687212576550717 partial_j_b: -0.09067916054245169 partial_j_w: 0.001223932095553172 delta_w: -1.223932095539837e-05 delta_b: 0.0009067916054245062\n"
          ]
        }
      ],
      "source": [
        "# 均值归一化\n",
        "for epoch in range(epochs):\n",
        "  # Your code here\n",
        "  # 梯度下降\n",
        "  partial_j_w_accumulate = 0\n",
        "  partial_j_b_accumulate = 0\n",
        "  for i in range(len(x)):\n",
        "    y_hat = w * x[i] + b\n",
        "    partial_j_w_accumulate += (y_hat - y[i]) * x[i]\n",
        "    partial_j_b_accumulate += (y_hat - y[i])\n",
        "  partial_j_w =  partial_j_w_accumulate / len(x)\n",
        "  partial_j_b =  partial_j_b_accumulate / len(x)\n",
        "  old_w = w\n",
        "  old_b = b\n",
        "  w -= learn_rate * partial_j_w\n",
        "  b -= learn_rate * partial_j_b\n",
        "  if(epoch % display_step == 0):\n",
        "    print(\"epoch:\", epoch, \"w:\", w, \"b:\", b,\"partial_j_b:\", partial_j_b, \"partial_j_w:\", partial_j_w,\"delta_w:\", w - old_w, \"delta_b:\", b - old_b)\n",
        "  # End your code"
      ]
    }
  ],
  "metadata": {
    "colab": {
      "provenance": []
    },
    "kernelspec": {
      "display_name": "Python 3",
      "name": "python3"
    },
    "language_info": {
      "codemirror_mode": {
        "name": "ipython",
        "version": 3
      },
      "file_extension": ".py",
      "mimetype": "text/x-python",
      "name": "python",
      "nbconvert_exporter": "python",
      "pygments_lexer": "ipython3",
      "version": "3.9.19"
    }
  },
  "nbformat": 4,
  "nbformat_minor": 0
}
