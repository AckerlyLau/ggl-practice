{
  "cells": [
    {
      "cell_type": "markdown",
      "metadata": {
        "id": "C_LqSe6BOIMO"
      },
      "source": [
        "In this work, you are required to implement an easy linear regression with machine learning methods based on numpy. It is better not to use the deep learning libraries such as PyTorch or Tensorflow .etc."
      ]
    },
    {
      "cell_type": "markdown",
      "metadata": {
        "id": "jOJEgBOHTwG5"
      },
      "source": [
        "The first is the data generation. We can generate data that follows a linear distribution with the following functions."
      ]
    },
    {
      "cell_type": "code",
      "execution_count": 4,
      "metadata": {
        "id": "Z5aJpqiDNvj8"
      },
      "outputs": [],
      "source": [
        "import numpy as np\n",
        "def get_data(num):\n",
        "  for _ in range(num):\n",
        "    x = np.random.uniform(-10.0, 10.0)\n",
        "    noise = np.random.normal(0, 1)\n",
        "    y = x * 2 + 1 + noise\n",
        "    yield np.array([x]).astype(np.float32), np.array([y]).astype(np.float32)\n",
        "\n",
        "x = np.array([])\n",
        "y = np.array([])\n",
        "for x0, y0 in get_data(1000):\n",
        "  x = np.append(x, x0)\n",
        "  y = np.append(y, y0)"
      ]
    },
    {
      "cell_type": "markdown",
      "metadata": {
        "id": "HwsYNcPpVrog"
      },
      "source": [
        "The following is setting the hyperparameters, and the initialization of the learnable parameters."
      ]
    },
    {
      "cell_type": "code",
      "execution_count": 5,
      "metadata": {
        "id": "tpmidqWHV7st"
      },
      "outputs": [],
      "source": [
        "learn_rate = 0.1\n",
        "epochs = 100\n",
        "display_step = 10\n",
        "np.random.seed(0)\n",
        "w = np.random.rand()\n",
        "b = np.random.rand()"
      ]
    },
    {
      "cell_type": "markdown",
      "metadata": {
        "id": "XoLQ2KCMWKz-"
      },
      "source": [
        "So, you only need to write the code to train the learnable parameters w and b. We recommend you use the mean square error function."
      ]
    },
    {
      "cell_type": "code",
      "execution_count": 6,
      "metadata": {
        "id": "bKv5Se1tWmVY"
      },
      "outputs": [
        {
          "name": "stdout",
          "output_type": "stream",
          "text": [
            "epoch: 0 w: 5.549200066681455 b: 0.8049671495491613 partial_j_b: -0.8977778317674175 partial_j_w: -50.0038656275413 delta_w: 5.00038656275413 delta_b: 0.08977778317674179\n",
            "epoch: 10 w: 25356.28553689982 b: 343.10481616159916 partial_j_b: -4830.970029174321 partial_j_w: -357913.00397913763 delta_w: 35791.300397913765 delta_b: 483.09700291743206\n",
            "epoch: 20 w: 181467592.13571438 b: 2449339.972334535 partial_j_b: -34576027.28443309 partial_j_w: -2561682251.770454 delta_w: 256168225.1770454 delta_b: 3457602.728443309\n",
            "epoch: 30 w: 1298813673637.1416 b: 17530596135.69678 partial_j_b: -247470178828.2875 partial_j_w: -18334667549726.67 delta_w: 1833466754972.6672 delta_b: 24747017882.82875\n",
            "epoch: 40 w: 9295968264088176.0 b: 125471319425707.97 partial_j_b: -1771212434388142.5 partial_j_w: -1.3122628067029878e+17 delta_w: 1.312262806702988e+16 delta_b: 177121243438814.25\n",
            "epoch: 50 w: 6.6533812910265745e+19 b: 8.980328950265641e+17 partial_j_b: -1.2677056696629756e+19 partial_j_w: -9.392227424825531e+20 delta_w: 9.392227424825532e+19 delta_b: 1.2677056696629757e+18\n",
            "epoch: 60 w: 4.762008792004432e+23 b: 6.427469514475787e+21 partial_j_b: -9.073319685963038e+22 partial_j_w: -6.722276631559686e+24 delta_w: 6.722276631559687e+23 delta_b: 9.073319685963039e+21\n",
            "epoch: 70 w: 3.408301244618506e+27 b: 4.600317492634102e+25 partial_j_b: -6.494025552916427e+26 partial_j_w: -4.8113190904821525e+28 delta_w: 4.811319090482153e+27 delta_b: 6.494025552916427e+25\n",
            "epoch: 80 w: 2.4394153563035714e+31 b: 3.292574314879738e+29 partial_j_b: -4.6479534879802714e+30 partial_j_w: -3.443593987453535e+32 delta_w: 3.4435939874535355e+31 delta_b: 4.6479534879802714e+29\n",
            "epoch: 90 w: 1.7459569602204344e+35 b: 2.3565863956920648e+33 partial_j_b: -3.3266687127102445e+34 partial_j_w: -2.464675347325122e+36 delta_w: 2.4646753473251223e+35 delta_b: 3.326668712710245e+33\n"
          ]
        }
      ],
      "source": [
        "# 均值归一化\n",
        "for epoch in range(epochs):\n",
        "  # Your code here\n",
        "  # 梯度下降\n",
        "  partial_j_w_accumulate = 0\n",
        "  partial_j_b_accumulate = 0\n",
        "  for i in range(len(x)):\n",
        "    y_hat = w * x[i] + b\n",
        "    partial_j_w_accumulate += (y_hat - y[i]) * x[i]\n",
        "    partial_j_b_accumulate += (y_hat - y[i])\n",
        "  partial_j_w =  partial_j_w_accumulate / len(x)\n",
        "  partial_j_b =  partial_j_b_accumulate / len(x)\n",
        "  old_w = w\n",
        "  old_b = b\n",
        "  w -= learn_rate * partial_j_w\n",
        "  b -= learn_rate * partial_j_b\n",
        "  if(epoch % display_step == 0):\n",
        "    print(\"epoch:\", epoch, \"w:\", w, \"b:\", b,\"partial_j_b:\", partial_j_b, \"partial_j_w:\", partial_j_w,\"delta_w:\", w - old_w, \"delta_b:\", b - old_b)\n",
        "  # End your code"
      ]
    }
  ],
  "metadata": {
    "colab": {
      "provenance": []
    },
    "kernelspec": {
      "display_name": "Python 3",
      "name": "python3"
    },
    "language_info": {
      "codemirror_mode": {
        "name": "ipython",
        "version": 3
      },
      "file_extension": ".py",
      "mimetype": "text/x-python",
      "name": "python",
      "nbconvert_exporter": "python",
      "pygments_lexer": "ipython3",
      "version": "3.9.19"
    }
  },
  "nbformat": 4,
  "nbformat_minor": 0
}
